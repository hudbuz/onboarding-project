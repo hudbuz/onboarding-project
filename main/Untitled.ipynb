{
 "cells": [
  {
   "cell_type": "code",
   "execution_count": 1,
   "id": "04f84d23-d863-4874-b1ab-85289570cbe1",
   "metadata": {},
   "outputs": [],
   "source": [
    "import numpy as np # linear algebra\n",
    "import pandas as pd # data processing, CSV file I/O (e.g. pd.read_csv)\n",
    "\n",
    "# keeps the plots in one place. calls image as static pngs\n",
    "# %matplotlib inline \n",
    "import matplotlib.pyplot as plt # side-stepping mpl backend\n",
    "import matplotlib.gridspec as gridspec # subplots\n",
    "import mpld3 as mpl\n",
    "\n",
    "#Import models from scikit learn module:\n",
    "from sklearn.model_selection import train_test_split\n",
    "from sklearn.linear_model import LogisticRegression\n",
    "from sklearn.model_selection import KFold   #For K-fold cross validation\n",
    "from sklearn.ensemble import RandomForestClassifier\n",
    "from sklearn.tree import DecisionTreeClassifier, export_graphviz\n",
    "from sklearn import metrics"
   ]
  },
  {
   "cell_type": "code",
   "execution_count": 5,
   "id": "51c0e2ac-64c0-4576-b414-a8636194e964",
   "metadata": {},
   "outputs": [],
   "source": [
    "df = pd.read_csv(\"data.csv\",header = 0)\n"
   ]
  },
  {
   "cell_type": "code",
   "execution_count": 14,
   "id": "ed711290-4b28-4853-a3df-10cb460c1cf1",
   "metadata": {},
   "outputs": [
    {
     "name": "stdout",
     "output_type": "stream",
     "text": [
      "CREATE TABLE \"breast_cancer_detection_raw\" (\n",
      "\"id\" INTEGER,\n",
      "  \"diagnosis\" TEXT,\n",
      "  \"radius_mean\" REAL,\n",
      "  \"texture_mean\" REAL,\n",
      "  \"perimeter_mean\" REAL,\n",
      "  \"area_mean\" REAL,\n",
      "  \"smoothness_mean\" REAL,\n",
      "  \"compactness_mean\" REAL,\n",
      "  \"concavity_mean\" REAL,\n",
      "  \"concave points_mean\" REAL,\n",
      "  \"symmetry_mean\" REAL,\n",
      "  \"fractal_dimension_mean\" REAL,\n",
      "  \"radius_se\" REAL,\n",
      "  \"texture_se\" REAL,\n",
      "  \"perimeter_se\" REAL,\n",
      "  \"area_se\" REAL,\n",
      "  \"smoothness_se\" REAL,\n",
      "  \"compactness_se\" REAL,\n",
      "  \"concavity_se\" REAL,\n",
      "  \"concave points_se\" REAL,\n",
      "  \"symmetry_se\" REAL,\n",
      "  \"fractal_dimension_se\" REAL,\n",
      "  \"radius_worst\" REAL,\n",
      "  \"texture_worst\" REAL,\n",
      "  \"perimeter_worst\" REAL,\n",
      "  \"area_worst\" REAL,\n",
      "  \"smoothness_worst\" REAL,\n",
      "  \"compactness_worst\" REAL,\n",
      "  \"concavity_worst\" REAL,\n",
      "  \"concave points_worst\" REAL,\n",
      "  \"symmetry_worst\" REAL,\n",
      "  \"fractal_dimension_worst\" REAL,\n",
      "  \"Unnamed: 32\" REAL\n",
      ")\n"
     ]
    }
   ],
   "source": [
    "print(pd.io.sql.get_schema(df, \"breast_cancer_detection_raw\"))"
   ]
  },
  {
   "cell_type": "code",
   "execution_count": 30,
   "id": "b969fd23-edb3-4ba8-a1ba-2508d2b02251",
   "metadata": {},
   "outputs": [],
   "source": [
    "df.drop('id',axis=1,inplace=True)\n",
    "df.drop('Unnamed: 32',axis=1,inplace=True)"
   ]
  },
  {
   "cell_type": "code",
   "execution_count": 31,
   "id": "81b440ea-a10a-4adf-bec4-a0f4f6b49aec",
   "metadata": {},
   "outputs": [],
   "source": [
    "df['diagnosis'] = df['diagnosis'].map({'M':1,'B':0})\n",
    "features_mean=list(df.columns[1:11])\n",
    "\n"
   ]
  },
  {
   "cell_type": "code",
   "execution_count": 32,
   "id": "a8061182-7c2f-4074-8d3d-dc2c19ec504b",
   "metadata": {},
   "outputs": [],
   "source": [
    "#Generic function for making a classification model and accessing the performance. \n",
    "# From AnalyticsVidhya tutorial\n",
    "def classification_model(model, data, predictors, outcome):\n",
    "  #Fit the model:\n",
    "  model.fit(data[predictors],data[outcome])\n",
    "  \n",
    "  #Make predictions on training set:\n",
    "  predictions = model.predict(data[predictors])\n",
    "  \n",
    "  #Print accuracy\n",
    "  accuracy = metrics.accuracy_score(predictions,data[outcome])\n",
    "  print(\"Accuracy : %s\" % \"{0:.3%}\".format(accuracy))\n",
    "\n",
    "  #Perform k-fold cross-validation with 5 folds\n",
    "  kf = KFold(n_splits=5)\n",
    "  error = []\n",
    "  for train, test in kf.split(data):\n",
    "    # Filter training data\n",
    "    train_predictors = (data[predictors].iloc[train,:])\n",
    "    \n",
    "    # The target we're using to train the algorithm.\n",
    "    train_target = data[outcome].iloc[train]\n",
    "    \n",
    "    # Training the algorithm using the predictors and target.\n",
    "    model.fit(train_predictors, train_target)\n",
    "\n",
    "    error.append(model.score(data[predictors].iloc[test,:], data[outcome].iloc[test]))\n",
    "    \n",
    "    print(\"Cross-Validation Score : %s\" % \"{0:.3%}\".format(np.mean(error)))\n",
    "    \n",
    "  #Fit the model again so that it can be refered outside the function:\n",
    "  model.fit(data[predictors],data[outcome])"
   ]
  },
  {
   "cell_type": "code",
   "execution_count": 33,
   "id": "fd06a3b0-2783-400e-9111-3aa3957b0988",
   "metadata": {},
   "outputs": [],
   "source": [
    "traindf, testdf = train_test_split(df, test_size = 0.3)\n"
   ]
  },
  {
   "cell_type": "code",
   "execution_count": 34,
   "id": "9ad48b21-5d1a-4ad5-ac05-a0513bce8bc2",
   "metadata": {},
   "outputs": [
    {
     "name": "stdout",
     "output_type": "stream",
     "text": [
      "Accuracy : 88.693%\n",
      "Cross-Validation Score : 87.500%\n",
      "Cross-Validation Score : 91.250%\n",
      "Cross-Validation Score : 88.333%\n",
      "Cross-Validation Score : 88.085%\n",
      "Cross-Validation Score : 88.696%\n"
     ]
    }
   ],
   "source": [
    "predictor_var = ['radius_mean','perimeter_mean','area_mean','compactness_mean','concave points_mean']\n",
    "outcome_var='diagnosis'\n",
    "model=LogisticRegression()\n",
    "classification_model(model,traindf,predictor_var,outcome_var)"
   ]
  },
  {
   "cell_type": "code",
   "execution_count": 38,
   "id": "dbd77859-b67d-4aed-88cb-4837935041a7",
   "metadata": {},
   "outputs": [
    {
     "name": "stdout",
     "output_type": "stream",
     "text": [
      "Accuracy : 95.477%\n",
      "Cross-Validation Score : 95.000%\n",
      "Cross-Validation Score : 93.750%\n",
      "Cross-Validation Score : 91.667%\n",
      "Cross-Validation Score : 92.168%\n",
      "Cross-Validation Score : 92.975%\n"
     ]
    }
   ],
   "source": [
    "predictor_var = features_mean\n",
    "model = RandomForestClassifier(n_estimators=100,min_samples_split=25, max_depth=7, max_features=2)\n",
    "classification_model(model, traindf,predictor_var,outcome_var)"
   ]
  },
  {
   "cell_type": "code",
   "execution_count": 50,
   "id": "dde9644f-fbb9-4407-a378-c6460a609fe4",
   "metadata": {},
   "outputs": [],
   "source": [
    "output = model.predict(traindf[features_mean])"
   ]
  },
  {
   "cell_type": "code",
   "execution_count": 51,
   "id": "015ac167-dcf6-4670-a6f9-feb28a66035d",
   "metadata": {},
   "outputs": [
    {
     "data": {
      "text/plain": [
       "array([0, 0, 0, 1, 1, 1, 0, 1, 1, 0, 0, 0, 1, 1, 1, 0, 1, 0, 0, 0, 1, 0,\n",
       "       0, 0, 0, 1, 0, 0, 0, 1, 0, 0, 0, 1, 0, 1, 0, 1, 0, 1, 0, 0, 0, 1,\n",
       "       0, 0, 0, 1, 1, 0, 0, 0, 0, 1, 0, 0, 0, 1, 1, 0, 1, 0, 0, 1, 1, 1,\n",
       "       0, 0, 1, 0, 1, 0, 0, 0, 1, 0, 0, 0, 0, 0, 1, 1, 0, 1, 0, 0, 0, 0,\n",
       "       0, 1, 0, 0, 0, 0, 1, 0, 0, 1, 1, 0, 1, 0, 0, 0, 0, 1, 1, 1, 0, 0,\n",
       "       0, 1, 1, 0, 0, 0, 1, 0, 1, 0, 1, 0, 1, 1, 0, 1, 1, 1, 0, 1, 0, 0,\n",
       "       0, 1, 0, 0, 0, 1, 1, 0, 0, 0, 0, 0, 1, 1, 1, 0, 0, 0, 0, 0, 0, 0,\n",
       "       1, 1, 1, 0, 1, 1, 0, 1, 1, 0, 0, 0, 1, 1, 1, 0, 1, 0, 0, 0, 0, 0,\n",
       "       0, 1, 0, 0, 0, 0, 0, 1, 0, 0, 1, 0, 0, 1, 0, 0, 0, 1, 0, 1, 1, 0,\n",
       "       1, 1, 0, 0, 0, 0, 0, 1, 0, 1, 0, 0, 1, 0, 0, 0, 1, 0, 0, 1, 1, 1,\n",
       "       0, 1, 0, 1, 1, 0, 1, 0, 1, 0, 1, 0, 0, 0, 1, 1, 0, 1, 1, 0, 0, 0,\n",
       "       0, 0, 1, 1, 1, 0, 1, 0, 1, 1, 1, 0, 0, 0, 0, 0, 1, 1, 0, 0, 1, 1,\n",
       "       1, 0, 0, 1, 1, 0, 1, 1, 1, 0, 0, 0, 0, 1, 0, 0, 1, 1, 0, 0, 0, 0,\n",
       "       0, 0, 0, 1, 0, 1, 0, 0, 1, 0, 0, 0, 0, 0, 1, 1, 1, 0, 0, 1, 0, 0,\n",
       "       0, 1, 0, 0, 1, 0, 1, 1, 0, 0, 1, 0, 0, 0, 0, 1, 0, 0, 1, 1, 0, 1,\n",
       "       0, 0, 1, 0, 0, 1, 0, 1, 0, 0, 1, 0, 1, 0, 0, 0, 1, 1, 0, 0, 0, 0,\n",
       "       0, 0, 0, 1, 0, 0, 1, 1, 0, 0, 0, 1, 0, 0, 0, 1, 1, 1, 1, 0, 0, 1,\n",
       "       0, 0, 1, 0, 0, 1, 1, 1, 0, 0, 0, 0, 1, 0, 0, 0, 0, 0, 0, 0, 0, 0,\n",
       "       0, 0])"
      ]
     },
     "execution_count": 51,
     "metadata": {},
     "output_type": "execute_result"
    }
   ],
   "source": []
  },
  {
   "cell_type": "code",
   "execution_count": 47,
   "id": "b364ce59-a4be-4b72-b85b-860f3ef86313",
   "metadata": {},
   "outputs": [],
   "source": [
    "class A:\n",
    "    def __init__(self):\n",
    "        self.a = 1\n",
    "    \n",
    "    def testb(self):\n",
    "        print(self.a)\n",
    "    def testa(self):\n",
    "        return testb()"
   ]
  },
  {
   "cell_type": "code",
   "execution_count": 53,
   "id": "afeb06cf-c9f1-46e7-b06f-702ed47a0a2e",
   "metadata": {},
   "outputs": [
    {
     "data": {
      "text/plain": [
       "Index(['diagnosis', 'radius_mean', 'texture_mean', 'perimeter_mean',\n",
       "       'area_mean', 'smoothness_mean', 'compactness_mean', 'concavity_mean',\n",
       "       'concave points_mean', 'symmetry_mean', 'fractal_dimension_mean',\n",
       "       'radius_se', 'texture_se', 'perimeter_se', 'area_se', 'smoothness_se',\n",
       "       'compactness_se', 'concavity_se', 'concave points_se', 'symmetry_se',\n",
       "       'fractal_dimension_se', 'radius_worst', 'texture_worst',\n",
       "       'perimeter_worst', 'area_worst', 'smoothness_worst',\n",
       "       'compactness_worst', 'concavity_worst', 'concave points_worst',\n",
       "       'symmetry_worst', 'fractal_dimension_worst'],\n",
       "      dtype='object')"
      ]
     },
     "execution_count": 53,
     "metadata": {},
     "output_type": "execute_result"
    }
   ],
   "source": [
    "traindf.columns.h"
   ]
  },
  {
   "cell_type": "code",
   "execution_count": 62,
   "id": "921dd75f-81a5-4824-9983-370e1a53bd13",
   "metadata": {},
   "outputs": [
    {
     "data": {
      "text/plain": [
       "diagnosis                    0.000000\n",
       "radius_mean                 13.270000\n",
       "texture_mean                17.020000\n",
       "perimeter_mean              84.550000\n",
       "area_mean                  546.400000\n",
       "smoothness_mean              0.084450\n",
       "compactness_mean             0.049940\n",
       "concavity_mean               0.035540\n",
       "concave points_mean          0.024560\n",
       "symmetry_mean                0.149600\n",
       "fractal_dimension_mean       0.056740\n",
       "radius_se                    0.292700\n",
       "texture_se                   0.890700\n",
       "perimeter_se                 2.044000\n",
       "area_se                     24.680000\n",
       "smoothness_se                0.006032\n",
       "compactness_se               0.011040\n",
       "concavity_se                 0.022590\n",
       "concave points_se            0.009057\n",
       "symmetry_se                  0.014820\n",
       "fractal_dimension_se         0.002496\n",
       "radius_worst                15.140000\n",
       "texture_worst               23.600000\n",
       "perimeter_worst             98.840000\n",
       "area_worst                 708.800000\n",
       "smoothness_worst             0.127600\n",
       "compactness_worst            0.131100\n",
       "concavity_worst              0.178600\n",
       "concave points_worst         0.096780\n",
       "symmetry_worst               0.250600\n",
       "fractal_dimension_worst      0.076230\n",
       "Name: 224, dtype: float64"
      ]
     },
     "execution_count": 62,
     "metadata": {},
     "output_type": "execute_result"
    }
   ],
   "source": [
    "traindf.iloc[0]"
   ]
  },
  {
   "cell_type": "code",
   "execution_count": 65,
   "id": "1bf6483b-8ee3-447f-8d8a-51414bb5fd08",
   "metadata": {},
   "outputs": [],
   "source": [
    "input_vector = pd.DataFrame(\n",
    "        [{\"diagnosis\": 1,\n",
    "          'radius_mean': 13.270000,\n",
    "          \"texture_mean\": 17.020000,\n",
    "          \"perimter_mean\": 84.550000,\n",
    "          \"area_mean\": 546.400000,\n",
    "          \"smoothness_mean\": 0.084450,\n",
    "          \"compactness_mean\": 0.049940,\n",
    "          \"concavity_mean\": 0.035540,\n",
    "          \"concave points_mean\": 0.024560,\n",
    "          \"symmetry_mean\": 0.149600,\n",
    "          \"fractal_dimension_mean\": 0.056740,\n",
    "          \"id\": 1,\n",
    "          \"Unnamed: 32\": 2\n",
    "          \n",
    "          \n",
    "        }], features_mean\n",
    "    )"
   ]
  },
  {
   "cell_type": "code",
   "execution_count": 69,
   "id": "5b24dcc8-78a3-4962-a1ce-6e1d5afd4242",
   "metadata": {},
   "outputs": [],
   "source": [
    "features_mean += [\"id\", \"Unnamed: 32\"]"
   ]
  },
  {
   "cell_type": "code",
   "execution_count": 70,
   "id": "45370b01-17a5-44ee-a4c4-0d5d14832156",
   "metadata": {},
   "outputs": [
    {
     "data": {
      "text/plain": [
       "['radius_mean',\n",
       " 'texture_mean',\n",
       " 'perimeter_mean',\n",
       " 'area_mean',\n",
       " 'smoothness_mean',\n",
       " 'compactness_mean',\n",
       " 'concavity_mean',\n",
       " 'concave points_mean',\n",
       " 'symmetry_mean',\n",
       " 'fractal_dimension_mean',\n",
       " 'id',\n",
       " 'Unnamed: 32']"
      ]
     },
     "execution_count": 70,
     "metadata": {},
     "output_type": "execute_result"
    }
   ],
   "source": []
  },
  {
   "cell_type": "code",
   "execution_count": 66,
   "id": "2175f327-2ac2-43db-b76b-cafc14edc311",
   "metadata": {},
   "outputs": [
    {
     "data": {
      "text/html": [
       "<div>\n",
       "<style scoped>\n",
       "    .dataframe tbody tr th:only-of-type {\n",
       "        vertical-align: middle;\n",
       "    }\n",
       "\n",
       "    .dataframe tbody tr th {\n",
       "        vertical-align: top;\n",
       "    }\n",
       "\n",
       "    .dataframe thead th {\n",
       "        text-align: right;\n",
       "    }\n",
       "</style>\n",
       "<table border=\"1\" class=\"dataframe\">\n",
       "  <thead>\n",
       "    <tr style=\"text-align: right;\">\n",
       "      <th></th>\n",
       "      <th>diagnosis</th>\n",
       "      <th>radius_mean</th>\n",
       "      <th>texture_mean</th>\n",
       "      <th>perimter_mean</th>\n",
       "      <th>area_mean</th>\n",
       "      <th>smoothness_mean</th>\n",
       "      <th>compactness_mean</th>\n",
       "      <th>concavity_mean</th>\n",
       "      <th>concave points_mean</th>\n",
       "      <th>symmetry_mean</th>\n",
       "      <th>fractal_dimension_mean</th>\n",
       "    </tr>\n",
       "  </thead>\n",
       "  <tbody>\n",
       "    <tr>\n",
       "      <th>radius_mean</th>\n",
       "      <td>1</td>\n",
       "      <td>13.27</td>\n",
       "      <td>17.02</td>\n",
       "      <td>84.55</td>\n",
       "      <td>546.4</td>\n",
       "      <td>0.08445</td>\n",
       "      <td>0.04994</td>\n",
       "      <td>0.03554</td>\n",
       "      <td>0.02456</td>\n",
       "      <td>0.1496</td>\n",
       "      <td>0.05674</td>\n",
       "    </tr>\n",
       "    <tr>\n",
       "      <th>texture_mean</th>\n",
       "      <td>1</td>\n",
       "      <td>13.27</td>\n",
       "      <td>17.02</td>\n",
       "      <td>84.55</td>\n",
       "      <td>546.4</td>\n",
       "      <td>0.08445</td>\n",
       "      <td>0.04994</td>\n",
       "      <td>0.03554</td>\n",
       "      <td>0.02456</td>\n",
       "      <td>0.1496</td>\n",
       "      <td>0.05674</td>\n",
       "    </tr>\n",
       "    <tr>\n",
       "      <th>perimeter_mean</th>\n",
       "      <td>1</td>\n",
       "      <td>13.27</td>\n",
       "      <td>17.02</td>\n",
       "      <td>84.55</td>\n",
       "      <td>546.4</td>\n",
       "      <td>0.08445</td>\n",
       "      <td>0.04994</td>\n",
       "      <td>0.03554</td>\n",
       "      <td>0.02456</td>\n",
       "      <td>0.1496</td>\n",
       "      <td>0.05674</td>\n",
       "    </tr>\n",
       "    <tr>\n",
       "      <th>area_mean</th>\n",
       "      <td>1</td>\n",
       "      <td>13.27</td>\n",
       "      <td>17.02</td>\n",
       "      <td>84.55</td>\n",
       "      <td>546.4</td>\n",
       "      <td>0.08445</td>\n",
       "      <td>0.04994</td>\n",
       "      <td>0.03554</td>\n",
       "      <td>0.02456</td>\n",
       "      <td>0.1496</td>\n",
       "      <td>0.05674</td>\n",
       "    </tr>\n",
       "    <tr>\n",
       "      <th>smoothness_mean</th>\n",
       "      <td>1</td>\n",
       "      <td>13.27</td>\n",
       "      <td>17.02</td>\n",
       "      <td>84.55</td>\n",
       "      <td>546.4</td>\n",
       "      <td>0.08445</td>\n",
       "      <td>0.04994</td>\n",
       "      <td>0.03554</td>\n",
       "      <td>0.02456</td>\n",
       "      <td>0.1496</td>\n",
       "      <td>0.05674</td>\n",
       "    </tr>\n",
       "    <tr>\n",
       "      <th>compactness_mean</th>\n",
       "      <td>1</td>\n",
       "      <td>13.27</td>\n",
       "      <td>17.02</td>\n",
       "      <td>84.55</td>\n",
       "      <td>546.4</td>\n",
       "      <td>0.08445</td>\n",
       "      <td>0.04994</td>\n",
       "      <td>0.03554</td>\n",
       "      <td>0.02456</td>\n",
       "      <td>0.1496</td>\n",
       "      <td>0.05674</td>\n",
       "    </tr>\n",
       "    <tr>\n",
       "      <th>concavity_mean</th>\n",
       "      <td>1</td>\n",
       "      <td>13.27</td>\n",
       "      <td>17.02</td>\n",
       "      <td>84.55</td>\n",
       "      <td>546.4</td>\n",
       "      <td>0.08445</td>\n",
       "      <td>0.04994</td>\n",
       "      <td>0.03554</td>\n",
       "      <td>0.02456</td>\n",
       "      <td>0.1496</td>\n",
       "      <td>0.05674</td>\n",
       "    </tr>\n",
       "    <tr>\n",
       "      <th>concave points_mean</th>\n",
       "      <td>1</td>\n",
       "      <td>13.27</td>\n",
       "      <td>17.02</td>\n",
       "      <td>84.55</td>\n",
       "      <td>546.4</td>\n",
       "      <td>0.08445</td>\n",
       "      <td>0.04994</td>\n",
       "      <td>0.03554</td>\n",
       "      <td>0.02456</td>\n",
       "      <td>0.1496</td>\n",
       "      <td>0.05674</td>\n",
       "    </tr>\n",
       "    <tr>\n",
       "      <th>symmetry_mean</th>\n",
       "      <td>1</td>\n",
       "      <td>13.27</td>\n",
       "      <td>17.02</td>\n",
       "      <td>84.55</td>\n",
       "      <td>546.4</td>\n",
       "      <td>0.08445</td>\n",
       "      <td>0.04994</td>\n",
       "      <td>0.03554</td>\n",
       "      <td>0.02456</td>\n",
       "      <td>0.1496</td>\n",
       "      <td>0.05674</td>\n",
       "    </tr>\n",
       "    <tr>\n",
       "      <th>fractal_dimension_mean</th>\n",
       "      <td>1</td>\n",
       "      <td>13.27</td>\n",
       "      <td>17.02</td>\n",
       "      <td>84.55</td>\n",
       "      <td>546.4</td>\n",
       "      <td>0.08445</td>\n",
       "      <td>0.04994</td>\n",
       "      <td>0.03554</td>\n",
       "      <td>0.02456</td>\n",
       "      <td>0.1496</td>\n",
       "      <td>0.05674</td>\n",
       "    </tr>\n",
       "  </tbody>\n",
       "</table>\n",
       "</div>"
      ],
      "text/plain": [
       "                        diagnosis  radius_mean  texture_mean  perimter_mean  \\\n",
       "radius_mean                     1        13.27         17.02          84.55   \n",
       "texture_mean                    1        13.27         17.02          84.55   \n",
       "perimeter_mean                  1        13.27         17.02          84.55   \n",
       "area_mean                       1        13.27         17.02          84.55   \n",
       "smoothness_mean                 1        13.27         17.02          84.55   \n",
       "compactness_mean                1        13.27         17.02          84.55   \n",
       "concavity_mean                  1        13.27         17.02          84.55   \n",
       "concave points_mean             1        13.27         17.02          84.55   \n",
       "symmetry_mean                   1        13.27         17.02          84.55   \n",
       "fractal_dimension_mean          1        13.27         17.02          84.55   \n",
       "\n",
       "                        area_mean  smoothness_mean  compactness_mean  \\\n",
       "radius_mean                 546.4          0.08445           0.04994   \n",
       "texture_mean                546.4          0.08445           0.04994   \n",
       "perimeter_mean              546.4          0.08445           0.04994   \n",
       "area_mean                   546.4          0.08445           0.04994   \n",
       "smoothness_mean             546.4          0.08445           0.04994   \n",
       "compactness_mean            546.4          0.08445           0.04994   \n",
       "concavity_mean              546.4          0.08445           0.04994   \n",
       "concave points_mean         546.4          0.08445           0.04994   \n",
       "symmetry_mean               546.4          0.08445           0.04994   \n",
       "fractal_dimension_mean      546.4          0.08445           0.04994   \n",
       "\n",
       "                        concavity_mean  concave points_mean  symmetry_mean  \\\n",
       "radius_mean                    0.03554              0.02456         0.1496   \n",
       "texture_mean                   0.03554              0.02456         0.1496   \n",
       "perimeter_mean                 0.03554              0.02456         0.1496   \n",
       "area_mean                      0.03554              0.02456         0.1496   \n",
       "smoothness_mean                0.03554              0.02456         0.1496   \n",
       "compactness_mean               0.03554              0.02456         0.1496   \n",
       "concavity_mean                 0.03554              0.02456         0.1496   \n",
       "concave points_mean            0.03554              0.02456         0.1496   \n",
       "symmetry_mean                  0.03554              0.02456         0.1496   \n",
       "fractal_dimension_mean         0.03554              0.02456         0.1496   \n",
       "\n",
       "                        fractal_dimension_mean  \n",
       "radius_mean                            0.05674  \n",
       "texture_mean                           0.05674  \n",
       "perimeter_mean                         0.05674  \n",
       "area_mean                              0.05674  \n",
       "smoothness_mean                        0.05674  \n",
       "compactness_mean                       0.05674  \n",
       "concavity_mean                         0.05674  \n",
       "concave points_mean                    0.05674  \n",
       "symmetry_mean                          0.05674  \n",
       "fractal_dimension_mean                 0.05674  "
      ]
     },
     "execution_count": 66,
     "metadata": {},
     "output_type": "execute_result"
    }
   ],
   "source": [
    "input_vector"
   ]
  },
  {
   "cell_type": "code",
   "execution_count": 67,
   "id": "8859fb30-5be5-4c91-9097-9502b6c9480e",
   "metadata": {},
   "outputs": [
    {
     "ename": "KeyError",
     "evalue": "\"['a'] not found in axis\"",
     "output_type": "error",
     "traceback": [
      "\u001b[0;31m---------------------------------------------------------------------------\u001b[0m",
      "\u001b[0;31mKeyError\u001b[0m                                  Traceback (most recent call last)",
      "Cell \u001b[0;32mIn[67], line 1\u001b[0m\n\u001b[0;32m----> 1\u001b[0m \u001b[43minput_vector\u001b[49m\u001b[38;5;241;43m.\u001b[39;49m\u001b[43mdrop\u001b[49m\u001b[43m(\u001b[49m\u001b[38;5;124;43m\"\u001b[39;49m\u001b[38;5;124;43ma\u001b[39;49m\u001b[38;5;124;43m\"\u001b[39;49m\u001b[43m)\u001b[49m\n",
      "File \u001b[0;32m~/dev/quak-test/onboarding-project/lib/python3.9/site-packages/pandas/core/frame.py:5258\u001b[0m, in \u001b[0;36mDataFrame.drop\u001b[0;34m(self, labels, axis, index, columns, level, inplace, errors)\u001b[0m\n\u001b[1;32m   5110\u001b[0m \u001b[38;5;28;01mdef\u001b[39;00m \u001b[38;5;21mdrop\u001b[39m(\n\u001b[1;32m   5111\u001b[0m     \u001b[38;5;28mself\u001b[39m,\n\u001b[1;32m   5112\u001b[0m     labels: IndexLabel \u001b[38;5;241m=\u001b[39m \u001b[38;5;28;01mNone\u001b[39;00m,\n\u001b[0;32m   (...)\u001b[0m\n\u001b[1;32m   5119\u001b[0m     errors: IgnoreRaise \u001b[38;5;241m=\u001b[39m \u001b[38;5;124m\"\u001b[39m\u001b[38;5;124mraise\u001b[39m\u001b[38;5;124m\"\u001b[39m,\n\u001b[1;32m   5120\u001b[0m ) \u001b[38;5;241m-\u001b[39m\u001b[38;5;241m>\u001b[39m DataFrame \u001b[38;5;241m|\u001b[39m \u001b[38;5;28;01mNone\u001b[39;00m:\n\u001b[1;32m   5121\u001b[0m \u001b[38;5;250m    \u001b[39m\u001b[38;5;124;03m\"\"\"\u001b[39;00m\n\u001b[1;32m   5122\u001b[0m \u001b[38;5;124;03m    Drop specified labels from rows or columns.\u001b[39;00m\n\u001b[1;32m   5123\u001b[0m \n\u001b[0;32m   (...)\u001b[0m\n\u001b[1;32m   5256\u001b[0m \u001b[38;5;124;03m            weight  1.0     0.8\u001b[39;00m\n\u001b[1;32m   5257\u001b[0m \u001b[38;5;124;03m    \"\"\"\u001b[39;00m\n\u001b[0;32m-> 5258\u001b[0m     \u001b[38;5;28;01mreturn\u001b[39;00m \u001b[38;5;28;43msuper\u001b[39;49m\u001b[43m(\u001b[49m\u001b[43m)\u001b[49m\u001b[38;5;241;43m.\u001b[39;49m\u001b[43mdrop\u001b[49m\u001b[43m(\u001b[49m\n\u001b[1;32m   5259\u001b[0m \u001b[43m        \u001b[49m\u001b[43mlabels\u001b[49m\u001b[38;5;241;43m=\u001b[39;49m\u001b[43mlabels\u001b[49m\u001b[43m,\u001b[49m\n\u001b[1;32m   5260\u001b[0m \u001b[43m        \u001b[49m\u001b[43maxis\u001b[49m\u001b[38;5;241;43m=\u001b[39;49m\u001b[43maxis\u001b[49m\u001b[43m,\u001b[49m\n\u001b[1;32m   5261\u001b[0m \u001b[43m        \u001b[49m\u001b[43mindex\u001b[49m\u001b[38;5;241;43m=\u001b[39;49m\u001b[43mindex\u001b[49m\u001b[43m,\u001b[49m\n\u001b[1;32m   5262\u001b[0m \u001b[43m        \u001b[49m\u001b[43mcolumns\u001b[49m\u001b[38;5;241;43m=\u001b[39;49m\u001b[43mcolumns\u001b[49m\u001b[43m,\u001b[49m\n\u001b[1;32m   5263\u001b[0m \u001b[43m        \u001b[49m\u001b[43mlevel\u001b[49m\u001b[38;5;241;43m=\u001b[39;49m\u001b[43mlevel\u001b[49m\u001b[43m,\u001b[49m\n\u001b[1;32m   5264\u001b[0m \u001b[43m        \u001b[49m\u001b[43minplace\u001b[49m\u001b[38;5;241;43m=\u001b[39;49m\u001b[43minplace\u001b[49m\u001b[43m,\u001b[49m\n\u001b[1;32m   5265\u001b[0m \u001b[43m        \u001b[49m\u001b[43merrors\u001b[49m\u001b[38;5;241;43m=\u001b[39;49m\u001b[43merrors\u001b[49m\u001b[43m,\u001b[49m\n\u001b[1;32m   5266\u001b[0m \u001b[43m    \u001b[49m\u001b[43m)\u001b[49m\n",
      "File \u001b[0;32m~/dev/quak-test/onboarding-project/lib/python3.9/site-packages/pandas/core/generic.py:4549\u001b[0m, in \u001b[0;36mNDFrame.drop\u001b[0;34m(self, labels, axis, index, columns, level, inplace, errors)\u001b[0m\n\u001b[1;32m   4547\u001b[0m \u001b[38;5;28;01mfor\u001b[39;00m axis, labels \u001b[38;5;129;01min\u001b[39;00m axes\u001b[38;5;241m.\u001b[39mitems():\n\u001b[1;32m   4548\u001b[0m     \u001b[38;5;28;01mif\u001b[39;00m labels \u001b[38;5;129;01mis\u001b[39;00m \u001b[38;5;129;01mnot\u001b[39;00m \u001b[38;5;28;01mNone\u001b[39;00m:\n\u001b[0;32m-> 4549\u001b[0m         obj \u001b[38;5;241m=\u001b[39m \u001b[43mobj\u001b[49m\u001b[38;5;241;43m.\u001b[39;49m\u001b[43m_drop_axis\u001b[49m\u001b[43m(\u001b[49m\u001b[43mlabels\u001b[49m\u001b[43m,\u001b[49m\u001b[43m \u001b[49m\u001b[43maxis\u001b[49m\u001b[43m,\u001b[49m\u001b[43m \u001b[49m\u001b[43mlevel\u001b[49m\u001b[38;5;241;43m=\u001b[39;49m\u001b[43mlevel\u001b[49m\u001b[43m,\u001b[49m\u001b[43m \u001b[49m\u001b[43merrors\u001b[49m\u001b[38;5;241;43m=\u001b[39;49m\u001b[43merrors\u001b[49m\u001b[43m)\u001b[49m\n\u001b[1;32m   4551\u001b[0m \u001b[38;5;28;01mif\u001b[39;00m inplace:\n\u001b[1;32m   4552\u001b[0m     \u001b[38;5;28mself\u001b[39m\u001b[38;5;241m.\u001b[39m_update_inplace(obj)\n",
      "File \u001b[0;32m~/dev/quak-test/onboarding-project/lib/python3.9/site-packages/pandas/core/generic.py:4591\u001b[0m, in \u001b[0;36mNDFrame._drop_axis\u001b[0;34m(self, labels, axis, level, errors, only_slice)\u001b[0m\n\u001b[1;32m   4589\u001b[0m         new_axis \u001b[38;5;241m=\u001b[39m axis\u001b[38;5;241m.\u001b[39mdrop(labels, level\u001b[38;5;241m=\u001b[39mlevel, errors\u001b[38;5;241m=\u001b[39merrors)\n\u001b[1;32m   4590\u001b[0m     \u001b[38;5;28;01melse\u001b[39;00m:\n\u001b[0;32m-> 4591\u001b[0m         new_axis \u001b[38;5;241m=\u001b[39m \u001b[43maxis\u001b[49m\u001b[38;5;241;43m.\u001b[39;49m\u001b[43mdrop\u001b[49m\u001b[43m(\u001b[49m\u001b[43mlabels\u001b[49m\u001b[43m,\u001b[49m\u001b[43m \u001b[49m\u001b[43merrors\u001b[49m\u001b[38;5;241;43m=\u001b[39;49m\u001b[43merrors\u001b[49m\u001b[43m)\u001b[49m\n\u001b[1;32m   4592\u001b[0m     indexer \u001b[38;5;241m=\u001b[39m axis\u001b[38;5;241m.\u001b[39mget_indexer(new_axis)\n\u001b[1;32m   4594\u001b[0m \u001b[38;5;66;03m# Case for non-unique axis\u001b[39;00m\n\u001b[1;32m   4595\u001b[0m \u001b[38;5;28;01melse\u001b[39;00m:\n",
      "File \u001b[0;32m~/dev/quak-test/onboarding-project/lib/python3.9/site-packages/pandas/core/indexes/base.py:6699\u001b[0m, in \u001b[0;36mIndex.drop\u001b[0;34m(self, labels, errors)\u001b[0m\n\u001b[1;32m   6697\u001b[0m \u001b[38;5;28;01mif\u001b[39;00m mask\u001b[38;5;241m.\u001b[39many():\n\u001b[1;32m   6698\u001b[0m     \u001b[38;5;28;01mif\u001b[39;00m errors \u001b[38;5;241m!=\u001b[39m \u001b[38;5;124m\"\u001b[39m\u001b[38;5;124mignore\u001b[39m\u001b[38;5;124m\"\u001b[39m:\n\u001b[0;32m-> 6699\u001b[0m         \u001b[38;5;28;01mraise\u001b[39;00m \u001b[38;5;167;01mKeyError\u001b[39;00m(\u001b[38;5;124mf\u001b[39m\u001b[38;5;124m\"\u001b[39m\u001b[38;5;132;01m{\u001b[39;00m\u001b[38;5;28mlist\u001b[39m(labels[mask])\u001b[38;5;132;01m}\u001b[39;00m\u001b[38;5;124m not found in axis\u001b[39m\u001b[38;5;124m\"\u001b[39m)\n\u001b[1;32m   6700\u001b[0m     indexer \u001b[38;5;241m=\u001b[39m indexer[\u001b[38;5;241m~\u001b[39mmask]\n\u001b[1;32m   6701\u001b[0m \u001b[38;5;28;01mreturn\u001b[39;00m \u001b[38;5;28mself\u001b[39m\u001b[38;5;241m.\u001b[39mdelete(indexer)\n",
      "\u001b[0;31mKeyError\u001b[0m: \"['a'] not found in axis\""
     ]
    }
   ],
   "source": []
  },
  {
   "cell_type": "code",
   "execution_count": 4,
   "id": "c01d718c-ea5c-4058-9458-97ba69fc816c",
   "metadata": {},
   "outputs": [
    {
     "data": {
      "text/html": [
       "<div>\n",
       "<style scoped>\n",
       "    .dataframe tbody tr th:only-of-type {\n",
       "        vertical-align: middle;\n",
       "    }\n",
       "\n",
       "    .dataframe tbody tr th {\n",
       "        vertical-align: top;\n",
       "    }\n",
       "\n",
       "    .dataframe thead th {\n",
       "        text-align: right;\n",
       "    }\n",
       "</style>\n",
       "<table border=\"1\" class=\"dataframe\">\n",
       "  <thead>\n",
       "    <tr style=\"text-align: right;\">\n",
       "      <th></th>\n",
       "      <th>radius_mean</th>\n",
       "      <th>texture_mean</th>\n",
       "      <th>perimeter_mean</th>\n",
       "      <th>area_mean</th>\n",
       "      <th>smoothness_mean</th>\n",
       "      <th>compactness_mean</th>\n",
       "      <th>concavity_mean</th>\n",
       "      <th>concave points_mean</th>\n",
       "      <th>symmetry_mean</th>\n",
       "      <th>fractal_dimension_mean</th>\n",
       "    </tr>\n",
       "  </thead>\n",
       "  <tbody>\n",
       "    <tr>\n",
       "      <th>id</th>\n",
       "      <td>13.27</td>\n",
       "      <td>17.02</td>\n",
       "      <td>84.55</td>\n",
       "      <td>546.4</td>\n",
       "      <td>0.08445</td>\n",
       "      <td>0.04994</td>\n",
       "      <td>0.03554</td>\n",
       "      <td>0.02456</td>\n",
       "      <td>0.1496</td>\n",
       "      <td>0.05674</td>\n",
       "    </tr>\n",
       "  </tbody>\n",
       "</table>\n",
       "</div>"
      ],
      "text/plain": [
       "    radius_mean  texture_mean  perimeter_mean  area_mean  smoothness_mean  \\\n",
       "id        13.27         17.02           84.55      546.4          0.08445   \n",
       "\n",
       "    compactness_mean  concavity_mean  concave points_mean  symmetry_mean  \\\n",
       "id           0.04994         0.03554              0.02456         0.1496   \n",
       "\n",
       "    fractal_dimension_mean  \n",
       "id                 0.05674  "
      ]
     },
     "execution_count": 4,
     "metadata": {},
     "output_type": "execute_result"
    }
   ],
   "source": [
    "features = ['radius_mean','texture_mean','perimeter_mean','area_mean','smoothness_mean','compactness_mean','concavity_mean','concave points_mean','symmetry_mean','fractal_dimension_mean']\n",
    "\n",
    "\n",
    "input_vector = pd.DataFrame(\n",
    "        data=[[13.270000,17.020000,84.550000,546.400000,0.084450,0.049940,0.035540,0.024560,0.149600,0.056740]], columns=features\n",
    "    )\n",
    "input_vector.set_axis(['id'])"
   ]
  },
  {
   "cell_type": "code",
   "execution_count": 5,
   "id": "12d53e72-4bba-425b-a93b-eca2325621d9",
   "metadata": {},
   "outputs": [],
   "source": [
    "from qwak_inference import RealTimeClient\n"
   ]
  },
  {
   "cell_type": "code",
   "execution_count": 6,
   "id": "1ea00f65-0623-4154-9953-0935d3fa33ea",
   "metadata": {},
   "outputs": [],
   "source": [
    "client = RealTimeClient(model_id=\"cancer_detection\")\n",
    "output = client.predict(input_vector)"
   ]
  },
  {
   "cell_type": "code",
   "execution_count": 7,
   "id": "309d23d0-6713-47ad-972d-b8ae734374c6",
   "metadata": {},
   "outputs": [
    {
     "data": {
      "text/plain": [
       "['diagnosis']"
      ]
     },
     "execution_count": 7,
     "metadata": {},
     "output_type": "execute_result"
    }
   ],
   "source": [
    "output"
   ]
  },
  {
   "cell_type": "code",
   "execution_count": 83,
   "id": "8c5654cd-3a4d-47cc-99b2-d6a387525709",
   "metadata": {},
   "outputs": [],
   "source": [
    "input_vector.drop('id',axis=1,inplace=True)\n"
   ]
  },
  {
   "cell_type": "code",
   "execution_count": 97,
   "id": "9dcf67bf-7d1e-4293-8f29-05e782465f04",
   "metadata": {},
   "outputs": [],
   "source": [
    "test = pd.DataFrame(data={\"a\": [1,2,3], \"b\": [\"a\",\"b\",\"😀\"]})"
   ]
  },
  {
   "cell_type": "code",
   "execution_count": 98,
   "id": "e70552bc-2eba-4916-8522-fa7f1ab8984d",
   "metadata": {},
   "outputs": [
    {
     "data": {
      "text/html": [
       "<div>\n",
       "<style scoped>\n",
       "    .dataframe tbody tr th:only-of-type {\n",
       "        vertical-align: middle;\n",
       "    }\n",
       "\n",
       "    .dataframe tbody tr th {\n",
       "        vertical-align: top;\n",
       "    }\n",
       "\n",
       "    .dataframe thead th {\n",
       "        text-align: right;\n",
       "    }\n",
       "</style>\n",
       "<table border=\"1\" class=\"dataframe\">\n",
       "  <thead>\n",
       "    <tr style=\"text-align: right;\">\n",
       "      <th></th>\n",
       "      <th>a</th>\n",
       "      <th>b</th>\n",
       "    </tr>\n",
       "  </thead>\n",
       "  <tbody>\n",
       "    <tr>\n",
       "      <th>0</th>\n",
       "      <td>1</td>\n",
       "      <td>a</td>\n",
       "    </tr>\n",
       "    <tr>\n",
       "      <th>1</th>\n",
       "      <td>2</td>\n",
       "      <td>b</td>\n",
       "    </tr>\n",
       "    <tr>\n",
       "      <th>2</th>\n",
       "      <td>3</td>\n",
       "      <td>😀</td>\n",
       "    </tr>\n",
       "  </tbody>\n",
       "</table>\n",
       "</div>"
      ],
      "text/plain": [
       "   a  b\n",
       "0  1  a\n",
       "1  2  b\n",
       "2  3  😀"
      ]
     },
     "execution_count": 98,
     "metadata": {},
     "output_type": "execute_result"
    }
   ],
   "source": [
    "test"
   ]
  },
  {
   "cell_type": "code",
   "execution_count": null,
   "id": "c4da95a3-803c-49bc-bcae-6784ddd4f417",
   "metadata": {},
   "outputs": [],
   "source": [
    "build features ['radius_mean', 'texture_mean', 'perimeter_mean', 'area_mean', 'smoothness_mean', 'compactness_mean', 'concavity_mean', 'concave points_mean', 'symmetry_mean', 'fractal_dimension_mean']\n"
   ]
  },
  {
   "cell_type": "code",
   "execution_count": null,
   "id": "cd19d0c9-8c3c-44fa-8960-906427ed5067",
   "metadata": {},
   "outputs": [],
   "source": [
    "predict features ['perimeter_mean', 'smoothness_mean', 'concave points_mean', 'compactness_mean', 'concavity_mean', 'fractal_dimension_mean', 'symmetry_mean', 'texture_mean', 'area_mean', 'radius_mean']\n"
   ]
  },
  {
   "cell_type": "code",
   "execution_count": null,
   "id": "d41a8e7f-150c-4e4e-a9b8-fe2568e5587d",
   "metadata": {},
   "outputs": [],
   "source": [
    "export QWAK_TOKEN=\"eyJhbGciOiJSUzI1NiIsInR5cCI6IkpXVCIsImtpZCI6IlJuZjAySWIzSEJzTVFUWWJjblNwZSJ9.eyJodHRwczovL2F1dGgtdG9rZW4ucXdhay5haS9xd2FrLWVudmlyb25tbmV0LWlkIjpbeyJkZWZhdWx0Ijp0cnVlLCJkYXRhX2FwaSI6IiIsIm1vZGVsc19hcGkiOiJtb2RlbHMuaHVkc29uLXRlc3QucXdhay5haSIsImJyYW5kX2xvZ29faW1hZ2VfcGF0aCI6IiIsImdycGNfYXBpIjoiZ3JwYy5odWRzb24tdGVzdC5xd2FrLmFpIiwiYnVja2V0IjoicXdha3N0YWNrY2xvdWQtbGFrZWRiZGRkNmY2LTk1MXV3c244ZThjbSIsImlkIjoiMDAwMDg2MjktN2ZjZC00MzBlLWFjZjYtOTVlYjBiZDkyNWFhIiwiYWxpYXMiOiJodWRzb24tdGVzdCJ9XSwiaHR0cHM6Ly9hdXRoLXRva2VuLnF3YWsuYWkvcXdhay1wYXJ0bmVyLWlkIjoiMDAwMDg2MjktN2ZjZC00MzBlLWFjZjYtOTVlYjBiZDkyNWFhIiwiaHR0cHM6Ly9hdXRoLXRva2VuLnF3YWsuYWkvcXdhay11c2VyLWlkIjoiaHVkc29uemJ1emJ5QGdtYWlsLmNvbSIsImh0dHBzOi8vYXV0aC10b2tlbi5xd2FrLmFpL2RhdGEtYXBpIjoiIiwiaHR0cHM6Ly9hdXRoLXRva2VuLnF3YWsuYWkvZ3JwYy1hcGkiOiJncnBjLmh1ZHNvbi10ZXN0LnF3YWsuYWkiLCJodHRwczovL2F1dGgtdG9rZW4ucXdhay5haS9tb2RlbHMtYXBpIjoibW9kZWxzLmh1ZHNvbi10ZXN0LnF3YWsuYWkiLCJodHRwczovL2F1dGgtdG9rZW4ucXdhay5haS9xd2FrLWJ1Y2tldCI6InF3YWtzdGFja2Nsb3VkLWxha2VkYmRkZDZmNi05NTF1d3NuOGU4Y20iLCJodHRwczovL2F1dGgtdG9rZW4ucXdhay5haS9idWNrZXQiOiJxd2Frc3RhY2tjbG91ZC1sYWtlZGJkZGQ2ZjYtOTUxdXdzbjhlOGNtIiwiaHR0cHM6Ly9hdXRoLXRva2VuLnF3YWsuYWkvYmktYXBpLWtleSI6IiIsImh0dHBzOi8vYXV0aC10b2tlbi5xd2FrLmFpL3F3YWtfYWNjb3VudHMiOnsiMDAwMDFhNTctZmFhNi00MjU1LWIyZTEtY2EyMWE3MmM1NWFjIjp7ImlkIjoiMDAwMDFhNTctZmFhNi00MjU1LWIyZTEtY2EyMWE3MmM1NWFjIiwibmFtZSI6Imh1ZHNvbi10ZXN0IiwiZGVmYXVsdF9lbnZpcm9ubWVudF9pZCI6IjAwMDA4NjI5LTdmY2QtNDMwZS1hY2Y2LTk1ZWIwYmQ5MjVhYSIsInF3YWtfZW52aXJvbm1lbnRzIjp7IjAwMDA4NjI5LTdmY2QtNDMwZS1hY2Y2LTk1ZWIwYmQ5MjVhYSI6eyJpZCI6IjAwMDA4NjI5LTdmY2QtNDMwZS1hY2Y2LTk1ZWIwYmQ5MjVhYSIsImhvc3RzIjp7ImFpIjp7InF3YWsiOnsiY2xvdWQiOnsicHJpdmF0ZWxpbmsiOnsiZ3JwYyI6e319fSwiaHVkc29uLXRlc3QiOnsibW9kZWxzIjp7fSwiZ3JwYyI6e319fX19LCJhbGlhcyI6Imh1ZHNvbi10ZXN0In19fX0sImh0dHBzOi8vYXV0aC10b2tlbi5xd2FrLmFpL3F3YWtfdXNlcl9raW5kIjoiU0lNUExFX1VTRVIiLCJpc3MiOiJodHRwczovL2F1dGgucXdhay5haS8iLCJzdWIiOiJnb29nbGUtb2F1dGgyfDEwMTQwMzg2NTcxNTIwODIxNjA5MiIsImF1ZCI6WyJodHRwczovL2F1dGgtdG9rZW4ucXdhay5haS8iLCJodHRwczovL2Rldi1xd2FrLnVzLmF1dGgwLmNvbS91c2VyaW5mbyJdLCJpYXQiOjE2OTI3MTI1MzQsImV4cCI6MTY5Mjc5ODkzNCwiYXpwIjoidERScGV1SlFmeXZKRzZNMGVVWDJIancyUlhlWjFlSEsiLCJzY29wZSI6Im9wZW5pZCBwcm9maWxlIGVtYWlsIG9mZmxpbmVfYWNjZXNzIn0.P0bOJMwHVzCIHDHWttLMfDv3nh4yF8A-pHmZPGtxpb0WjwO5CVbCPYWAZFogIhsd8UJ2TxM4UIh6sG_gXo31XYzs60tF9TsA50uuDVxiX1QqbjPaMsQUIbPq_FqaFXGfygkr83oQbV_PXx2rpzm0AV6FBVzujh9xXqUoTtTMHL4xfIXJqpZvdWzbAFlk3rMIdVhmdt1c2dFeP-QmqhOVdonPQcAwa6C4LhcwMohujy1c6HHl88dqngCZMEu5I_SOdlryqKy-Y5deuS3_s4z3fqD8d-xfg8stuNF2MSnBj8ECVvrvU4pT-JG4weRoTP5WFBabhQXc_y-MwQOnLor5hA\"\n",
    "\n",
    "curl --location --request POST 'https://models.hudson-test.qwak.ai/v1/cancer_detection/predict' \\\n",
    "--header 'Content-Type: application/json' \\\n",
    "--header 'Authorization: Bearer '$QWAK_TOKEN'' \\\n",
    "--data '{\"columns\":[\"radius_mean\",\"texture_mean\",\"perimeter_mean\",\"area_mean\",\"smoothness_mean\",\"compactness_mean\",\"concavity_mean\",\"symmetry_mean\",\"fractal_dimension_mean\"],\"index\":[0],\"data\":[[13.270000,17.020000,84.550000,546.400000,0.084450,0.049940,0.035540,0.149600,0.056740]]}'\n"
   ]
  },
  {
   "cell_type": "code",
   "execution_count": null,
   "id": "d573c80e-59d3-4961-aa3e-62406074c54d",
   "metadata": {},
   "outputs": [],
   "source": []
  },
  {
   "cell_type": "markdown",
   "id": "dd42f2fd-6e6e-4cd3-bc29-53f2f01ed1c2",
   "metadata": {},
   "source": [
    "# from qwak.feature_store.data_sources import SnowflakeSource\n",
    "from qwak.clients.secret_service import SecretServiceClient\n",
    "\n",
    "\n",
    "\n",
    "\n",
    "secret_service = SecretServiceClient()\n",
    "\n",
    "\n",
    "snowflake_source = SnowflakeSource(\n",
    "    name='snowflake_source',\n",
    "    description='a snowflake table for breast cancer detection data',\n",
    "    date_created_column='ETL_TIME',\n",
    "    host=secret_service.get_secret(\"snowflake-host\"),\n",
    "    username_secret_name=\"snowflake-user\", # use secret service\n",
    "    password_secret_name=\"snowflake-password\", # use secret service\n",
    "    database='QWAK_DB',\n",
    "    schema='BREAST_CANCER_DETECTION',\n",
    "    warehouse='COMPUTE_WH',\n",
    "    table=\"breast_cancer_detection_raw\"\n",
    ")\n",
    "\n",
    "snowflake_source.get_sample()"
   ]
  },
  {
   "cell_type": "code",
   "execution_count": 18,
   "id": "dcc145d1-da79-4b7f-94f4-c8dfcd3e9da4",
   "metadata": {},
   "outputs": [
    {
     "data": {
      "text/plain": [
       "'taa51111.snowflakecomputing.com'"
      ]
     },
     "execution_count": 18,
     "metadata": {},
     "output_type": "execute_result"
    }
   ],
   "source": [
    "secret_service.get_secret(\"snowflake-host\")"
   ]
  },
  {
   "cell_type": "code",
   "execution_count": 15,
   "id": "1188522e-cecb-4f9c-8c31-ffc33db4f7b8",
   "metadata": {},
   "outputs": [
    {
     "data": {
      "text/plain": [
       "'qwakuser'"
      ]
     },
     "execution_count": 15,
     "metadata": {},
     "output_type": "execute_result"
    }
   ],
   "source": [
    "snowflake_source.username_secret_name"
   ]
  },
  {
   "cell_type": "code",
   "execution_count": 22,
   "id": "9af0bac5-4a36-437c-88c7-4892fdab33a2",
   "metadata": {},
   "outputs": [],
   "source": [
    "key_to_features = {'id': [\n",
    "    \"breast-cancer-ingestion.radius_mean\",\n",
    "    \"breast-cancer-ingestion.texture_mean\",\n",
    "    \"breast-cancer-ingestion.perimeter_mean\",\n",
    "    \"breast-cancer-ingestion.area_mean\",\n",
    "    \"breast-cancer-ingestion.smoothness_mean\",\n",
    "    \"breast-cancer-ingestion.compactness_mean\",\n",
    "    \"breast-cancer-ingestion.concavity_mean\",\n",
    "    \"breast-cancer-ingestion.symmetry_mean\",\n",
    "    \"breast-cancer-ingestion.fractal_dimension_mean\",\n",
    "    \"breast-cancer-ingestion.diagnosis\"\n",
    "    ]\n",
    "}"
   ]
  },
  {
   "cell_type": "code",
   "execution_count": 23,
   "id": "b3590ab4-9825-40c6-bd15-206903130fe7",
   "metadata": {},
   "outputs": [],
   "source": [
    "df = pd.DataFrame(\n",
    "    columns=[                 \"id\"                ],\n",
    "    data   =[[ 1]]\n",
    ")"
   ]
  },
  {
   "cell_type": "code",
   "execution_count": null,
   "id": "f8810444-4b6a-4dc1-af75-93bda8ba2dfe",
   "metadata": {},
   "outputs": [],
   "source": [
    "import datetime\n",
    "end_date = datetime.datetime.now()\n",
    "start_date = datetime.datetime(2023,8,22,0,0,0)\n",
    "train_df = offline_client.get_feature_range_values(\n",
    "            entity_key_to_features=key_to_features,\n",
    "            start_date=start_date,\n",
    "            end_date=end_date,\n",
    "        )\n"
   ]
  },
  {
   "cell_type": "code",
   "execution_count": null,
   "id": "d0a8b4a9-93f3-449c-802a-ffe40ebbfd8f",
   "metadata": {},
   "outputs": [],
   "source": [
    "export QWAK_TOKEN=\"eyJhbGciOiJSUzI1NiIsInR5cCI6IkpXVCIsImtpZCI6IlJuZjAySWIzSEJzTVFUWWJjblNwZSJ9.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.BuXvwZQqIM3F1x0NqKideEdUs_25DwtFGtJhSwY_81Re4Ty8IV33HiUMQUE48l9rVNZCS9_h-PJvAvahPqUsHkDKXXKbD8anBiJ4FEc4bmOhvcjTgFvrxsqz4Atidrqyr7TLszt_voggd91m6_ldcdQ-OIkKWVsuSENG5kaFTcvmz-BVlygmZR4CSLQuCgLksOsf2vROhgvr-qjFmRhMpGJNbGMEYtGmGqCPstKuMjJXpoRIJNdrze6x1BoNDIqu24aaXIPp14GWGvDNnTj7SvfQsHlKPGblbxbW9hIMEZ-q7AMjrOTzZnkCZj12V8as2B-NGji7lEyaG_H-sbXjdw\"\n",
    "\n",
    "curl --location --request POST 'https://models.hudson-test.qwak.ai/v1/cancer_detection/predict' \\\n",
    "--header 'Content-Type: application/json' \\\n",
    "--header 'Authorization: Bearer '$QWAK_TOKEN'' \\\n",
    "--data '{\"columns\":[\"radius_mean\",\"texture_mean\",\"perimeter_mean\",\"area_mean\",\"smoothness_mean\",\"compactness_mean\",\"concavity_mean\",\"symmetry_mean\",\"fractal_dimension_mean\"],\"index\":[0],\"data\":[[17.99,10.38,122.8,1001,0.1184,0.2776,0.3001,0.2419,0.07871]]}'"
   ]
  }
 ],
 "metadata": {
  "kernelspec": {
   "display_name": "Python 3 (ipykernel)",
   "language": "python",
   "name": "python3"
  },
  "language_info": {
   "codemirror_mode": {
    "name": "ipython",
    "version": 3
   },
   "file_extension": ".py",
   "mimetype": "text/x-python",
   "name": "python",
   "nbconvert_exporter": "python",
   "pygments_lexer": "ipython3",
   "version": "3.9.17"
  }
 },
 "nbformat": 4,
 "nbformat_minor": 5
}
